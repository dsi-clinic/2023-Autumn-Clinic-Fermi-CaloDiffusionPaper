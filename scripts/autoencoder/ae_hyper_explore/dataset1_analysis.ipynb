{
 "cells": [
  {
   "cell_type": "code",
   "execution_count": null,
   "id": "e3d6ec7e-fe43-47b7-80f1-18ec8a3ba2a6",
   "metadata": {},
   "outputs": [],
   "source": [
    "from ae_layers_funcs import loss_df, plot_loss"
   ]
  },
  {
   "cell_type": "code",
   "execution_count": null,
   "id": "21659822-617f-4b4e-b568-ea77099260e6",
   "metadata": {},
   "outputs": [],
   "source": [
    "train_4, val_4 = loss_df(\"dataset1_phot_AE_16_16_4e-4\")\n",
    "train_3x16_4, val_3x16_4 = loss_df(\"dataset1_phot_AE_16_16_16_4e-4\")\n",
    "train_2x16_32, val_2x16_32 = loss_df(\"dataset1_phot_AE_16_16_32_4e-4\")\n",
    "train_3x32, val_3x32 = loss_df(\"dataset1_phot_AE_32_32_32_4e-4\")"
   ]
  },
  {
   "cell_type": "code",
   "execution_count": null,
   "id": "cb9e0560-ea95-40f6-80cb-53771eadeb40",
   "metadata": {},
   "outputs": [],
   "source": [
    "plot_loss(train_4, [\"16 16\", \"16 16 16\", \"16 16 32\", \"32 32 32\"], [\"1/2\", \"1/16\", \"1/8\", \"1/8\"], \"Training\", \"Dataset 1\", compare=[train_3x16_4, train_2x16_32, train_3x32])\n",
    "plot_loss(val_4, [\"16 16\", \"16 16 16\", \"16 16 32\", \"32 32 32\"], [\"1/2\", \"1/16\", \"1/8\", \"1/8\"], \"Validation\", \"Dataset 1\", compare=[val_3x16_4, val_2x16_32, val_3x32])"
   ]
  }
 ],
 "metadata": {
  "kernelspec": {
   "display_name": "Python 3 (ipykernel)",
   "language": "python",
   "name": "python3"
  },
  "language_info": {
   "codemirror_mode": {
    "name": "ipython",
    "version": 3
   },
   "file_extension": ".py",
   "mimetype": "text/x-python",
   "name": "python",
   "nbconvert_exporter": "python",
   "pygments_lexer": "ipython3",
   "version": "3.11.10"
  }
 },
 "nbformat": 4,
 "nbformat_minor": 5
}
