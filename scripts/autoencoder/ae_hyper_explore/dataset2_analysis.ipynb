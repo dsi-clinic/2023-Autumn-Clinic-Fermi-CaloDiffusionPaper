{
 "cells": [
  {
   "cell_type": "code",
   "execution_count": null,
   "id": "5906903e-73f1-418e-8f12-7ba01a83dfad",
   "metadata": {},
   "outputs": [],
   "source": [
    "from ae_layers_funcs import loss_df, plot_loss"
   ]
  },
  {
   "cell_type": "code",
   "execution_count": null,
   "id": "bdefe368-348b-4ff8-9c85-a35ff1d354b1",
   "metadata": {},
   "outputs": [],
   "source": [
    "train2_2x16, val2_2x16 = loss_df(\"dataset2_AE_16_16_4e-4\")\n",
    "train2_3x16, val2_3x16 = loss_df(\"dataset2_AE_16_16_16_4e-4\")\n",
    "train2_2x16_32, val2_2x16_32 = loss_df(\"dataset2_AE_16_16_32_4e-4\")\n",
    "train2_3x32, val2_3x32 = loss_df(\"dataset2_AE_32_32_32_4e-4\")"
   ]
  },
  {
   "cell_type": "code",
   "execution_count": null,
   "id": "6fe1317e-3d11-4388-a93f-68c805786411",
   "metadata": {},
   "outputs": [],
   "source": [
    "plot_loss(train2_2x16, [\"16 16\", \"16 16 16\", \"16 16 32\", \"32 32 32\"], [\"1/2\", \"1/16\", \"1/8\", \"1/8\"], \"Training\", \"Dataset 2\", compare=[train2_3x16, train2_2x16_32, train2_3x32])\n",
    "plot_loss(val2_2x16, [\"16 16\", \"16 16 16\", \"16 16 32\", \"32 32 32\"], [\"1/2\", \"1/16\", \"1/8\", \"1/8\"], \"Validation\", \"Dataset 2\", compare=[val2_3x16, val2_2x16_32, val2_3x32])"
   ]
  }
 ],
 "metadata": {
  "kernelspec": {
   "display_name": "Python 3 (ipykernel)",
   "language": "python",
   "name": "python3"
  },
  "language_info": {
   "codemirror_mode": {
    "name": "ipython",
    "version": 3
   },
   "file_extension": ".py",
   "mimetype": "text/x-python",
   "name": "python",
   "nbconvert_exporter": "python",
   "pygments_lexer": "ipython3",
   "version": "3.11.10"
  }
 },
 "nbformat": 4,
 "nbformat_minor": 5
}
